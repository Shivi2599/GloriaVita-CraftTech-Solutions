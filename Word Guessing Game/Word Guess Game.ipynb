{
 "cells": [
  {
   "cell_type": "code",
   "execution_count": 3,
   "id": "f4ec5766-6d16-4c98-9f6e-42c9022f1e84",
   "metadata": {},
   "outputs": [
    {
     "name": "stdout",
     "output_type": "stream",
     "text": [
      "\u001b[1m🎉 Welcome to the Word Guessing Game! 🎉\u001b[0m\n",
      "=========================================\n"
     ]
    },
    {
     "name": "stdin",
     "output_type": "stream",
     "text": [
      "\n",
      "Enter your name:  Shivangi\n"
     ]
    },
    {
     "name": "stdout",
     "output_type": "stream",
     "text": [
      "\n",
      "Choose the difficulty level to play: easy, medium ,hard \n"
     ]
    },
    {
     "name": "stdin",
     "output_type": "stream",
     "text": [
      " hard\n"
     ]
    },
    {
     "name": "stdout",
     "output_type": "stream",
     "text": [
      "\n",
      "Brace yourself for the hard game! 🔥\n",
      "You have \u001b[1m5\u001b[0m attempts to guess the word.\n",
      "\u001b[1mHint\u001b[0m: Clothing 🧥\n",
      " \n",
      "Secret Word : _ _ _ _ _ _ \n"
     ]
    },
    {
     "name": "stdin",
     "output_type": "stream",
     "text": [
      "Make a Guess :  b\n"
     ]
    },
    {
     "name": "stdout",
     "output_type": "stream",
     "text": [
      "✅ You have guessed the correct letter: \u001b[1mb\u001b[0m\n",
      " \n",
      "Secret Word : b_ _ _ _ _ \n"
     ]
    },
    {
     "name": "stdin",
     "output_type": "stream",
     "text": [
      "Make a Guess :  a\n"
     ]
    },
    {
     "name": "stdout",
     "output_type": "stream",
     "text": [
      "✅ You have guessed the correct letter: \u001b[1ma\u001b[0m\n",
      " \n",
      "Secret Word : b_ a_ _ _ \n"
     ]
    },
    {
     "name": "stdin",
     "output_type": "stream",
     "text": [
      "Make a Guess :  l\n"
     ]
    },
    {
     "name": "stdout",
     "output_type": "stream",
     "text": [
      "✅ You have guessed the correct letter: \u001b[1ml\u001b[0m\n",
      " \n",
      "Secret Word : bla_ _ _ \n"
     ]
    },
    {
     "name": "stdin",
     "output_type": "stream",
     "text": [
      "Make a Guess :  z\n"
     ]
    },
    {
     "name": "stdout",
     "output_type": "stream",
     "text": [
      "✅ You have guessed the correct letter: \u001b[1mz\u001b[0m\n",
      " \n",
      "Secret Word : blaz_ _ \n"
     ]
    },
    {
     "name": "stdin",
     "output_type": "stream",
     "text": [
      "Make a Guess :  e\n"
     ]
    },
    {
     "name": "stdout",
     "output_type": "stream",
     "text": [
      "✅ You have guessed the correct letter: \u001b[1me\u001b[0m\n",
      " \n",
      "Secret Word : blaze_ \n"
     ]
    },
    {
     "name": "stdin",
     "output_type": "stream",
     "text": [
      "Make a Guess :  r\n"
     ]
    },
    {
     "name": "stdout",
     "output_type": "stream",
     "text": [
      "✅ You have guessed the correct letter: \u001b[1mr\u001b[0m\n",
      "\n",
      "Congratulations! You win! 🎊\n",
      "You guessed the word : \u001b[1mblazer\u001b[0m\n",
      "Shivangi's score:   325\n",
      "\n",
      "🏆 \u001b[1mLeaderboard\u001b[0m 🏆\n",
      "1. Shivangi: 640 points\n",
      "2. shiv: 615 points\n",
      "3. Mohit Gupta: 610 points\n",
      "4. s: 550 points\n",
      "5. rahul : 550 points\n",
      "6. Dheeraj: 510 points\n",
      "7. rahul: 510 points\n",
      "8. h: 505 points\n",
      "9. d: 475 points\n",
      "10. f: 460 points\n",
      "11. SHivangi: 410 points\n",
      "12. k: 230 points\n",
      "13. shivangi: 130 points\n"
     ]
    },
    {
     "name": "stdin",
     "output_type": "stream",
     "text": [
      "\u001b[1m\n",
      "Do you want to play again? (yes/no):\u001b[0m no\n"
     ]
    },
    {
     "name": "stdout",
     "output_type": "stream",
     "text": [
      "Thanks for playing! See you next time! 👋\n"
     ]
    }
   ],
   "source": [
    "import random\n",
    "import json\n",
    "import os\n",
    "\n",
    "                                                          ## Game Setup\n",
    "# Lists of words\n",
    "\n",
    "words = {\n",
    "    'easy': [\n",
    "        {'word': 'apple', 'hint': 'Fruit 🍎'},\n",
    "        {'word': 'yellow', 'hint': 'Color 🔴'},\n",
    "        {'word': 'shirt', 'hint': 'Clothing 👕'},\n",
    "        {'word': 'chess', 'hint': 'Indoor Game 🎯'},\n",
    "        {'word': 'tomato', 'hint': 'Veggie 🍅'},\n",
    "        {'word': 'deadpool', 'hint': 'Marvel Universe Movie Character ⚒️'},\n",
    "        {'word': 'salman', 'hint': 'Celebrity 🎬'},\n",
    "        {'word': 'mango', 'hint': 'Fruit 🥭'},\n",
    "        {'word': 'Mustard', 'hint': 'Color 🔵'},\n",
    "        {'word': 'jeans', 'hint': 'Clothing 👖'}\n",
    "    ],\n",
    "    'medium': [\n",
    "        {'word': 'banana', 'hint': 'Fruit 🍌'},\n",
    "        {'word': 'crimson', 'hint': 'Color 🟢'},\n",
    "        {'word': 'skirt', 'hint': 'Clothing 👗'},\n",
    "        {'word': 'carrom', 'hint': 'Indoor Game 🎯'},\n",
    "        {'word': 'carrot', 'hint': 'Veggie 🥦'},\n",
    "        {'word': 'ironman', 'hint': 'Marvel Universe Movie Character 🦾'},\n",
    "        {'word': 'shradha', 'hint': 'Celebrity 🎬'},\n",
    "        {'word': 'lagaan', 'hint': 'Bollywood Movie 🎥'},\n",
    "        {'word': 'orange', 'hint': 'Fruit 🍊'},\n",
    "        {'word': 'lavender', 'hint': 'Color 🟣'}\n",
    "    ],\n",
    "    'hard': [\n",
    "        {'word': 'pomegranate', 'hint': 'Fruit 🍎'},\n",
    "        {'word': 'turquoise', 'hint': 'Color 🟦'},\n",
    "        {'word': 'blazer', 'hint': 'Clothing 🧥'},\n",
    "        {'word': 'monopoly', 'hint': 'Indoor Game 🎲'},\n",
    "        {'word': 'broccoli', 'hint': 'Veggie 🥕'},\n",
    "        {'word': 'blackpanther', 'hint': 'Marvel Universe Movie Character 🐾'},\n",
    "        {'word': 'kangana', 'hint': 'Celebrity 🎬'},\n",
    "        {'word': 'andhadhun', 'hint': 'Bollywood Movie 🎥'},\n",
    "        {'word': 'watermelon', 'hint': 'Fruit 🍊'},\n",
    "        {'word': 'magenta', 'hint': 'Color 🟪'}\n",
    "    ]\n",
    "}\n",
    "difficulty_levels = {'easy': 10, 'medium': 6, 'hard': 5}\n",
    "\n",
    "# Randomly choose a word for each round\n",
    "def rand_choose_word(words, level):\n",
    "    return random.choice(words[level])\n",
    "\n",
    "                                                ## User Interaction\n",
    "\n",
    "# Display a masked version of the word with blanks for each letter.\n",
    "def display_word(word, guessed_letters):\n",
    "    display = \"\"\n",
    "    for letter in word:\n",
    "        if letter in guessed_letters:\n",
    "            display += letter\n",
    "        else:\n",
    "            display += \"_ \"\n",
    "    return display\n",
    "\n",
    "# Implement a scoring system based on attempts used and difficulty levels.\n",
    "def calculate_score(word, attempts, difficulty):\n",
    "    score = len(word)* 10 * difficulty_levels[difficulty] + attempts * 5\n",
    "    return score\n",
    "\n",
    "# Initialize the leaderboard file if it does not exist.\n",
    "# Create an empty dictionary in the file\n",
    "def initialize_leaderboard(file_name):\n",
    "    if not os.path.exists(file_name):\n",
    "        with open(file_name, 'w') as file:\n",
    "            json.dump({}, file)  \n",
    "\n",
    "# Update the leaderboard with a new score.\n",
    "def update_leaderboard(file_name, name, score):\n",
    "    # Load the existing leaderboard from the file\n",
    "    with open(file_name, 'r') as file:\n",
    "        leaderboard = json.load(file)\n",
    "\n",
    "    # Update the score if the new score is higher or add the new player\n",
    "    if name in leaderboard:\n",
    "        leaderboard[name] = max(score, leaderboard[name])\n",
    "    else:\n",
    "        leaderboard[name] = score\n",
    "\n",
    "    # Write the updated leaderboard back to the file\n",
    "    with open(file_name, 'w') as file:\n",
    "        json.dump(leaderboard, file)\n",
    "\n",
    "# Display the leaderboard sorted by scores.\n",
    "def display_leaderboard(file_name):\n",
    "    with open(file_name, 'r') as file:\n",
    "        leaderboard = json.load(file)\n",
    "\n",
    "    sorted_leaderboard = sorted(leaderboard.items(), key=lambda x: x[1], reverse=True)\n",
    "    \n",
    "    print(\"\\n🏆 \\033[1mLeaderboard\\033[0m 🏆\")\n",
    "    for rank, (name, score) in enumerate(sorted_leaderboard, 1):\n",
    "        print(f\"{rank}. {name}: {score} points\")\n",
    "\n",
    "\n",
    "def Game():\n",
    "    name = input(\"\\nEnter your name: \")\n",
    "    print(\"\\nChoose the difficulty level to play: easy, medium ,hard \")\n",
    "    difficulty = input().lower()\n",
    "    while difficulty not in difficulty_levels.keys():\n",
    "        print(\"❌ Invalid Difficulty.\")\n",
    "        print(\"\\nChoose difficulty level to play: easy, medium, hard\")\n",
    "        difficulty = input().lower()\n",
    "        \n",
    "    motivational_messages = {\n",
    "        'easy': \"\\nAll the best for the easy game! 🍀\",\n",
    "        'medium': \"\\nChallenge yourself with the medium game! 💪\",\n",
    "        'hard': \"\\nBrace yourself for the hard game! 🔥\"\n",
    "    }\n",
    "       \n",
    "    print(motivational_messages[difficulty])\n",
    "\n",
    "    secret_word = rand_choose_word(words, difficulty)\n",
    "    guessed_letters = \"\"\n",
    "    wrong_guesses = \"\"\n",
    "    hint = secret_word['hint']\n",
    "    word = secret_word['word']\n",
    "    attempts = difficulty_levels[difficulty]\n",
    "    print(f\"You have \\033[1m{attempts}\\033[0m attempts to guess the word.\")\n",
    "    print(f\"\\033[1mHint\\033[0m: {hint}\")\n",
    "\n",
    "    while attempts > 0:\n",
    "        print(f\" \\nSecret Word : {display_word(word, guessed_letters)}\")\n",
    "        Guess = input(\"Make a Guess : \").lower()\n",
    "\n",
    "        if len(Guess) != 1:\n",
    "            print(\"❌ Enter a single letter. \")\n",
    "            continue\n",
    "        elif not Guess.isalpha():\n",
    "            print('❌ Enter an alphabet!')\n",
    "            continue\n",
    "        \n",
    "        if Guess in guessed_letters:\n",
    "            print('🔄 You have already guessed the letter. ')\n",
    "        elif Guess in wrong_guesses:\n",
    "            print('🔄 You have already guessed the letter. ')\n",
    "        else:\n",
    "            if Guess in word:\n",
    "                print(f'✅ You have guessed the correct letter: \\033[1m{Guess}\\033[0m')\n",
    "                guessed_letters += Guess\n",
    "            else:\n",
    "                wrong_guesses += Guess\n",
    "                attempts -=1\n",
    "                print(f\"❌ Wrong guess! \\033[1m{Guess}\\033[0m is not in the secret word.\")\n",
    "                print(f'You have \\033[1m{attempts}\\033[0m attempts left to guess the word.')\n",
    "\n",
    "        Status = display_word(word, guessed_letters)\n",
    "        \n",
    "# WIN/LOSS Conditions\n",
    "        if \"_\" not in Status.replace(\" \",\"\"):\n",
    "            score = calculate_score(word, attempts, difficulty)\n",
    "            print(f\"\\nCongratulations! You win! 🎊\")\n",
    "            print(f\"You guessed the word : \\033[1m{word}\\033[0m\")\n",
    "            print(f\"{name}'s score:   {score}\")\n",
    "            update_leaderboard('leaderboard.json', name, score)\n",
    "            display_leaderboard('leaderboard.json')\n",
    "            break\n",
    "            \n",
    "        if attempts == 0:\n",
    "            print('\\n😢 Sorry, You have run out of attempts.')\n",
    "            print(f\"The Secret Word was \\033[1m'{word}'\\033[0m\")\n",
    "            print(\"Don’t worry, you’ll get 'em next round!  😊\")\n",
    "\n",
    "def word_guessing_game():\n",
    "    print(\"\\033[1m🎉 Welcome to the Word Guessing Game! 🎉\\033[0m\")\n",
    "    print(\"=========================================\")\n",
    "    \n",
    "    # Loop to repeatedly ask for input after the game whether to play again or not\n",
    "    while True:\n",
    "        Game()\n",
    "\n",
    "        while True:\n",
    "            play_again = input(\"\\033[1m\\nDo you want to play again? (yes/no):\\033[0m\").lower()\n",
    "            if play_again == 'yes': # If the user enters \"yes\", the game will restart.\n",
    "                break\n",
    "            elif play_again == 'no': # If the user enters \"no\", it thanks them and exits the game.\n",
    "                print(\"Thanks for playing! See you next time! 👋\")\n",
    "                return\n",
    "            else: # If the input is neither, prompts the user again to enter a valid response.\n",
    "                print(\"❌ Please enter 'yes' or 'no'.\")\n",
    "            \n",
    "            \n",
    "# Run the game\n",
    "initialize_leaderboard('leaderboard.json')\n",
    "word_guessing_game()"
   ]
  },
  {
   "cell_type": "code",
   "execution_count": null,
   "id": "b76fd27a-a81c-4328-a60a-9526bdf20ee4",
   "metadata": {},
   "outputs": [],
   "source": []
  }
 ],
 "metadata": {
  "kernelspec": {
   "display_name": "Python 3 (ipykernel)",
   "language": "python",
   "name": "python3"
  },
  "language_info": {
   "codemirror_mode": {
    "name": "ipython",
    "version": 3
   },
   "file_extension": ".py",
   "mimetype": "text/x-python",
   "name": "python",
   "nbconvert_exporter": "python",
   "pygments_lexer": "ipython3",
   "version": "3.11.7"
  }
 },
 "nbformat": 4,
 "nbformat_minor": 5
}
